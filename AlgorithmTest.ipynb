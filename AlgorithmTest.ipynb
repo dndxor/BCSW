{
 "cells": [
  {
   "cell_type": "markdown",
   "id": "8963a56b-e76b-4828-b5f9-33470fa39e8b",
   "metadata": {},
   "source": [
    "## [문제-1] 두 컵에 담긴 물 교환\n",
    "### ㅇ컵 두 개(a, b)에 각각 음료가 담겨있다. (a에는 파란색 물이 b에는 빨간색 물이)\n",
    "### ㅇ빈 컵(t)은 얼마든지 사용할 수 있다.\n",
    "### [질문] 어떤 과정(단계)을 거쳐야 두 컵에 물을 교환할 수 있는지 적어보세요.\t"
   ]
  },
  {
   "cell_type": "code",
   "execution_count": 3,
   "id": "1011d96e-2bd0-44b0-9b23-1e8250580643",
   "metadata": {},
   "outputs": [
    {
     "name": "stdout",
     "output_type": "stream",
     "text": [
      ">Before:  Red Blue\n",
      ">After:  Blue Red\n"
     ]
    }
   ],
   "source": [
    "## [문제-1] 두 컵에 담긴 물 교환\n",
    "a = 'Red'\n",
    "b = 'Blue'\n",
    "temp = ''\n",
    "\n",
    "print(\">Before: \", a, b)\n",
    "temp = a\n",
    "a = b\n",
    "b = temp\n",
    "print(\">After: \", a, b)"
   ]
  },
  {
   "cell_type": "markdown",
   "id": "472248da-bfcc-4cc7-bfb3-a5d5eaad3827",
   "metadata": {},
   "source": [
    "## [문제-2] 할인율 적용 순서\n",
    "### ㅇ할인율 적용 대상은 아래와 같다.\n",
    "#### [할인율-a] “지역주민”은 30% 할인 대상이다.\n",
    "#### [할인율-b] “국가유공자/현혁군인”은 50% 할인 대상이다.\n",
    "#### [할인율-c] “70세 이상” 어르신은 100% 할인 대상이다.\n",
    "### [질문] 할인율을 최대한 높게 결정해주어야 한다면, 할인율 적용을 위해 어떤 순서로 질문을 하여야 가장 적게 질문할 수 있는지 그 순서를 적어보세요."
   ]
  },
  {
   "cell_type": "code",
   "execution_count": 6,
   "id": "043699b7-fcc4-437c-8b7b-570d107f434b",
   "metadata": {},
   "outputs": [
    {
     "name": "stdout",
     "output_type": "stream",
     "text": [
      ">입장료는 10000원입니다.\n",
      ">신분이 어떻게 되는지  y나 기타 키로 답하세요.\n"
     ]
    },
    {
     "name": "stdin",
     "output_type": "stream",
     "text": [
      ">>70세 이상이신가요(y)?  y\n"
     ]
    },
    {
     "name": "stdout",
     "output_type": "stream",
     "text": [
      ">>>100%가 할인되어 0원입니다.\n"
     ]
    }
   ],
   "source": [
    "## [문제-2] 할인율 적용 순서\n",
    "fee = 10000 #입장료\n",
    "print(\">입장료는 %d원입니다.\" %fee)\n",
    "print(\">신분이 어떻게 되는지  y나 기타 키로 답하세요.\")\n",
    "\n",
    "status = input(\">>70세 이상이신가요(y)? \").strip().lower()\n",
    "if status == 'y':\n",
    "    rate = 100\n",
    "else:\n",
    "    status = input(\">>국가유공자나 현혁군인이신가요(y)? \").strip().lower()\n",
    "    if status == 'y':\n",
    "        rate = 70\n",
    "    else:\n",
    "        status = input(\">>지역주민이신가요(y)? \").strip().lower()\n",
    "        if status == 'y':\n",
    "            rate = 30\n",
    "        else:\n",
    "            rate = 0\n",
    "\n",
    "#fee = fee * (1 - rate/100)\n",
    "fee = fee - (fee * rate / 100)\n",
    "print(\">>>%d%%가 할인되어 %d원입니다.\" % (rate, fee))"
   ]
  },
  {
   "cell_type": "markdown",
   "id": "cb72f220-f0cf-4a0d-989c-b1dc24756c4d",
   "metadata": {},
   "source": [
    "## [문제-3] 할인 적용 여부 판단 조건\n",
    "### ㅇ“할인” 조건은 다음과 같다.\n",
    "####   -“국가유공자”인 경우 또는 “현역 군인”인 경우\n",
    "### [질문] “비할인” 조건을 설명하여보세요.\t"
   ]
  },
  {
   "cell_type": "code",
   "execution_count": 11,
   "id": "fcefe33f-8ec6-499a-9005-b6079284a565",
   "metadata": {},
   "outputs": [
    {
     "name": "stdout",
     "output_type": "stream",
     "text": [
      ">신분이 어떻게 되는지  y나 기타 키로 답하세요.\n"
     ]
    },
    {
     "name": "stdin",
     "output_type": "stream",
     "text": [
      ">>국가유공자이신가요(y)?  \n",
      ">>현혁군인이신가요(y)?  \n"
     ]
    },
    {
     "name": "stdout",
     "output_type": "stream",
     "text": [
      ">>>할인 대상이 아닙니다.\n"
     ]
    }
   ],
   "source": [
    "## [문제-3] 할인 적용 여부 판단 조건\n",
    "print(\">신분이 어떻게 되는지  y나 기타 키로 답하세요.\")\n",
    "\n",
    "status1 = input(\">>국가유공자이신가요(y)? \").strip().lower()\n",
    "status2 = input(\">>현혁군인이신가요(y)? \").strip().lower()\n",
    "if (status1 != 'y') and (status2 != 'y'):\n",
    "    print(\">>>할인 대상이 아닙니다.\")\n",
    "else:    \n",
    "    print(\">>>할인 대상입니다.\")"
   ]
  },
  {
   "cell_type": "markdown",
   "id": "59335a56-c88e-48d3-913d-5b0a394e45d8",
   "metadata": {},
   "source": [
    "## [문제-4] “합격”과 “불합격” 판단\n",
    "### ㅇ“합격” 조건은 다음과 같이 조건-A와 조건-B를 모두 만족시켜야 한다.\n",
    "####   -[조건-A] 각 과목에서 40점 미만이 없어야 한다.\n",
    "####   -[조건-B] 모든 과목의 평균 점수가 60점 이상이어야 한다.\n",
    "### [질문] “불합격” 조건을 설명하여보세요.\t"
   ]
  },
  {
   "cell_type": "code",
   "execution_count": 1,
   "id": "06f53368-029a-4ed7-a04d-26670dc9dffe",
   "metadata": {},
   "outputs": [
    {
     "name": "stdin",
     "output_type": "stream",
     "text": [
      ">과목 점수 입력(Enter는 종료): 20\n",
      ">과목 점수 입력(Enter는 종료): 30\n",
      ">과목 점수 입력(Enter는 종료): 40\n",
      ">과목 점수 입력(Enter는 종료): 50\n",
      ">과목 점수 입력(Enter는 종료): 60\n",
      ">과목 점수 입력(Enter는 종료): \n"
     ]
    },
    {
     "name": "stdout",
     "output_type": "stream",
     "text": [
      ">>아쉽지만, 불합격입니다.!\n",
      ">>> Average: 40.0  *과락과목: 2개\n"
     ]
    }
   ],
   "source": [
    "### [문제-4] “합격”과 “불합격” 판단\n",
    "cnt_subject = 0   #과목 수\n",
    "cnt_blow = 0      #과락 점수 개수 \n",
    "tot_score = 0     #총점\n",
    "in_score = 0      #과목 점수 입력 값\n",
    "\n",
    "## 과목별 접수 입력\n",
    "while in_score >= 0:  \n",
    "    in_str = input(\">과목 점수 입력(Enter는 종료):\")   #과목 점수 입력\n",
    "    if len(in_str) == 0:  #입력 종료(빈 값 입력 시)\n",
    "        break\n",
    "    in_score = int(in_str)   #입력 점수 숫자로 변환\n",
    "    cnt_subject = cnt_subject + 1\n",
    "    tot_score = tot_score + in_score\n",
    "    if in_score < 40:  #과락 점검\n",
    "        cnt_blow += 1\n",
    "\n",
    "## 과락 및 평균으로 합/불 판단\n",
    "if cnt_subject > 0:\n",
    "    avg = tot_score / cnt_subject\n",
    "    if (cnt_blow != 0) or (avg < 60):  #불합격 판단\n",
    "        print(\">>아쉽지만, 불합격입니다.!\")\n",
    "        print(\">>> Average: %4.1f  *과락과목: %d개\" %(avg, cnt_blow))\n",
    "    else:\n",
    "        print(\">>축하!축하! 합격입니다.!\")\n",
    "        print(\"Average: %4.1f\" %avg)"
   ]
  },
  {
   "cell_type": "markdown",
   "id": "9bcb9643-d7b7-4bfd-8bdd-b26c4222de8b",
   "metadata": {},
   "source": [
    "## [문제-5] 정n각형 그리기\n",
    "### ㅇ아래와 같은 작업을 4번 반복하면 정4각형 괘적을 그리고 제자리에 돌아올 수 있다.\n",
    "####   (i) 앞으로 10보(step) 이동한다.   (ii) 좌로 90도(angle) 회전한다. \n",
    "### [질문] 정n각형을 그리기 위해서 좌로 몇 도를 회전해야 하는지에 대한 일반화된 식을 적어보시오. (정확하게 n번 만에 제자리로 돌아오기 위한 회전 각도(angle) 산출 공식)"
   ]
  },
  {
   "cell_type": "code",
   "execution_count": 29,
   "id": "aa6b0f56-4a77-43ff-83ef-5051b66cb12b",
   "metadata": {},
   "outputs": [
    {
     "name": "stdin",
     "output_type": "stream",
     "text": [
      ">몇 각형(3~n)?  4\n"
     ]
    }
   ],
   "source": [
    "## [문제-5] 정n각형 그리기\n",
    "import turtle as t\n",
    "t.shape('turtle')  #Turtle 모양\n",
    "\n",
    "n = int(input(\">몇 각형(3~n)? \"))  #키보드 입력 처리\n",
    "step = 100\n",
    "angle = 360 // n  # //는 나눈 몫\n",
    "\n",
    "for _ in range(n):  #n회 반복\n",
    "    t.forward(step)  #앞으로 100 pixcel 이동\n",
    "    t.left(angle)  #좌로 90도 회전\n",
    "\n",
    "t.exitonclick()  # 실행 창을 닫지 않도록"
   ]
  },
  {
   "cell_type": "markdown",
   "id": "3956f5f9-8fc3-41fd-8873-98a843379a8f",
   "metadata": {},
   "source": [
    "## [문제-6] 요일 알아내기\n",
    "### ㅇ오늘은 일요일이다.\n",
    "### [질문] 오늘로부터 1000번째 일수가 경과 한 날의 요일은 무슨 요일일까?"
   ]
  },
  {
   "cell_type": "code",
   "execution_count": 2,
   "id": "7891266b-54aa-4f5d-9ca7-20de0e84e533",
   "metadata": {},
   "outputs": [
    {
     "name": "stdout",
     "output_type": "stream",
     "text": [
      ">오늘은 일요일(0)\n"
     ]
    },
    {
     "name": "stdin",
     "output_type": "stream",
     "text": [
      "경과일 수 입력: 1000\n"
     ]
    },
    {
     "name": "stdout",
     "output_type": "stream",
     "text": [
      ">> 1000일 후는 토요일(6)\n"
     ]
    }
   ],
   "source": [
    "## [문제-6] 요일 알아내기\n",
    "day_name = ['일', '월', '화', '수', '목', '금', '토']\n",
    "\n",
    "start_day = '일'  #기준일 요일\n",
    "day_seq = day_name.index(start_day)  #기준일(start_day)의 순서값 구하기\n",
    "print(\">오늘은 %s요일(%d)\" %(day_name[day_seq], day_seq))\n",
    "\n",
    "n = int(input(\"경과일 수 입력:\"))  #경과일 수 입력\n",
    "day_seq = (day_seq + n) % 7  # n일 경과 후의 요일 순서값 구하기\n",
    "print(\">> %d일 후는 %s요일(%d)\" %(n, day_name[day_seq], day_seq))"
   ]
  },
  {
   "cell_type": "markdown",
   "id": "73e6028c-6a53-4b2e-9dd3-cc197de808a3",
   "metadata": {},
   "source": [
    "## [문제-7] 요일 순서 바꾸기  \n",
    "### ㅇ아래 () 안은 각 요일에 대한 순서 Index 값이다. \n",
    "#### >요일: 월(0), 화(1), 수(2), 목(3), 금(4), 토(5), 일(6)\n",
    "#### >> Original Index는 월/화/수/목/금/토/일 순이다.\n",
    "### [질문] Original Index 값으로부터 New Index 값을 환산하는 공식을 적으시오. \n",
    "#### >> New Index는 일/월/화/수/목/금/토 순이다."
   ]
  },
  {
   "cell_type": "code",
   "execution_count": 25,
   "id": "fda5abb6-6a4a-4ccd-bd03-ce144afbc5b2",
   "metadata": {},
   "outputs": [
    {
     "name": "stdout",
     "output_type": "stream",
     "text": [
      "Su  Mo  Tu  We  Th  Fr  Sa  "
     ]
    }
   ],
   "source": [
    "## [문제-7] 요일 순서 바꾸기\n",
    "import calendar\n",
    "day_name =  ['Mo', 'Tu', 'We', 'Th', 'Fr', 'Sa', 'Su']\n",
    "start_day = 'Su'  #시작 요일\n",
    "start_idx = day_name.index(start_day)  #시작 요일의 순서번호 구하기\n",
    "\n",
    "#시작 요일을 조정하여 출력\n",
    "for i in range(7):\n",
    "    idx = (i + start_idx) % 7  #요일 출력 순서 조정\n",
    "    print(\"%2s\" %(day_name[idx]), end='  ')  #줄 바꿈 없이 출력"
   ]
  },
  {
   "cell_type": "code",
   "execution_count": 23,
   "id": "286213d9-0c3b-404f-9a0c-e6729d8c78e0",
   "metadata": {},
   "outputs": [
    {
     "name": "stdin",
     "output_type": "stream",
     "text": [
      "년도(4자리):  2023\n",
      "월(2자리):  07\n"
     ]
    },
    {
     "name": "stdout",
     "output_type": "stream",
     "text": [
      "\t2023년  7월\t\t\n",
      "Su  Mo  Tu  We  Th  Fr  Sa  \n",
      "                         1  \n",
      " 2   3   4   5   6   7   8  \n",
      " 9  10  11  12  13  14  15  \n",
      "16  17  18  19  20  21  22  \n",
      "23  24  25  26  27  28  29  \n",
      "30  31  "
     ]
    }
   ],
   "source": [
    "## [문제-7] 요일 순서 바꾸어 달력 출력\n",
    "import calendar\n",
    "day_name = ['Mo', 'Tu', 'We', 'Th', 'Fr', 'Sa', 'Su']\n",
    "start_day = 'Su'  #시작 요일\n",
    "start_idx = day_name.index(start_day)  #시작 요일의 순서번호 구하기\n",
    "\n",
    "## 달력 만들기\n",
    "year = int(input(\"년도(4자리): \"))\n",
    "month = int(input(\"월(2자리): \"))\n",
    "\n",
    "info_month = calendar.monthrange(year, month)  #월에 대한 정보 얻기\n",
    "wday = info_month[0]   #요일 순선 번호 추출\n",
    "mend = info_month[1]   #월의 마지막 날 추출\n",
    "\n",
    "## 시작 요일에 따른 시작 위치 조정\n",
    "wday = (wday + (7 - start_idx)) % 7   #월 시작 일자 요일 위치 조정\n",
    "\n",
    "##타이틀 출력\n",
    "print(\"\\t%4d년 %2d월\\t\\t\" %(year, month))\n",
    "for i in range(7):\n",
    "    idx = (i + start_idx) % 7  #요일 출력 순서 조정\n",
    "    print(\"%2s\" %day_name[idx], end='  ')  #줄 바꿈 없이 출력\n",
    "print()  #줄 바꿈\n",
    "\n",
    "##일자 출력(월화수목금토일 순)\n",
    "for _ in range(wday):  #시작일자만큼 들여쓰기\n",
    "    print(\"    \", end='')\n",
    "wseq = wday\n",
    "for dd in range(1, mend+1):\n",
    "    if wseq >= 7:  #7번째 일마다 줄 바꿈\n",
    "        print()\n",
    "        wseq = 0\n",
    "    print(\"%2d\" %dd, end='  ')\n",
    "    wseq += 1"
   ]
  },
  {
   "cell_type": "markdown",
   "id": "f7364f87-2135-402f-853f-2fc5f723804a",
   "metadata": {},
   "source": [
    "## [문제-8] 거스름 돈 지불\n",
    "### ㅇ거스름 돈 135,000원을 지폐(5만/1만/5천/1천 원권)로 나누어 지불하여야 한다.\n",
    "### [질문] 큰 지폐 순으로 지급하여 지폐의 수를 최소화하려고 할 때 다음 질문에 대한 식을 적어보시오.\n",
    "#### (연산자는 사칙연산(+-*/), 나눈 몫(%), 나눈 나머지(//) 등을 사용)\n",
    "### <질문-A> 5만 원권의 개수를 구하는 식을 적어보시오.\n",
    "### <질문-B> 1만 원권의 개수를 구하는 식을 적어보시오."
   ]
  },
  {
   "cell_type": "code",
   "execution_count": 33,
   "id": "78399ec2-e9f9-419f-80cd-683b50f03a4d",
   "metadata": {},
   "outputs": [
    {
     "name": "stdin",
     "output_type": "stream",
     "text": [
      "반환할 금액 입력(원)?  135000\n"
     ]
    },
    {
     "name": "stdout",
     "output_type": "stream",
     "text": [
      "> 50000원권: 2\n",
      ">> 남은 액수: 35000\n",
      "> 10000원권: 3\n",
      ">> 남은 액수: 5000\n"
     ]
    }
   ],
   "source": [
    "## [문제-8] 거스름 돈 지불\n",
    "## 5만원권 처리 > 1만원권 처리\n",
    "remain = int(input(\"반환할 금액 입력(원)? \"))  #남은 액수\n",
    "\n",
    "coin_50000 = remain // 50000  #내준 개수: 50000으로 나눈 몫\n",
    "print(\"> 50000원권: %d\" %coin_50000)\n",
    "remain = remain - (coin_50000 * 50000)  #남은 액수: 50000으로 나눈 나머지\n",
    "print(\">> 남은 액수: %d\" %remain)\n",
    "\n",
    "coin_10000 = remain // 10000  #내준 개수: 10000으로 나눈 몫\n",
    "print(\"> 10000원권: %d\" %coin_10000)\n",
    "remain = remain - (coin_10000 * 10000)  #남은 액수: 10000으로 나눈 나머지\n",
    "print(\">> 남은 액수: %d\" %remain)"
   ]
  },
  {
   "cell_type": "code",
   "execution_count": 48,
   "id": "0ef6e606-c3d2-479e-996a-7fa643b5fe62",
   "metadata": {},
   "outputs": [
    {
     "name": "stdin",
     "output_type": "stream",
     "text": [
      "반환할 금액 입력(원)?  135000\n"
     ]
    },
    {
     "name": "stdout",
     "output_type": "stream",
     "text": [
      "> 50000원권: 2\n",
      "> 10000원권: 3\n",
      "> 5000원권: 1\n"
     ]
    }
   ],
   "source": [
    "## [문제-8] 거스름 돈 지불\n",
    "## 최소 화폐 개수로 금액 반환\n",
    "unit = [50000, 10000, 5000, 1000, 500, 100, 50, 10, 5, 1]  #List형 데이터 구조\n",
    "\n",
    "cnt_won = len(unit)  #unit의 항목 개수 구하기\n",
    "remain = int(input(\"반환할 금액 입력(원)? \"))  #남은 액수\n",
    "\n",
    "for i in range(cnt_won):  # (0에서부터 cnt_won이 되기 전까지) 값을 i로 반환하며 반복\n",
    "    result = remain // unit[i]  #내준 개수\n",
    "    if result != 0:\n",
    "        print(\"> %d원권: %d\" %(unit[i], result))\n",
    "    remain = remain % unit[i]       #남은 액수"
   ]
  },
  {
   "cell_type": "markdown",
   "id": "699cf7c2-d7bc-4256-9992-a626607ef90e",
   "metadata": {},
   "source": [
    "## [문제-9] 행렬 값의 순서\n",
    "### ㅇ아래 3x4 행렬에서 값 6(1행, 2열 값)은 시작 값(0번째 0)을 기준으로 6번째에 위치한다. \n",
    "#### arr = [[0, 1, 2, 3], [4, 5, 6, 7], [8, 9, 10, 11]]\n",
    "\n",
    "### [질문-1] 만약 15x10 행렬이라면 7행 8열의 값은 몇 번째 값에 해당하는가?\n",
    "\n",
    "### [질문-2] 만약 15x10 행렬이라면 96번째 값은 몇 행 몇 열에 있는가?"
   ]
  },
  {
   "cell_type": "code",
   "execution_count": 51,
   "id": "77b47963-78d5-49d9-acfc-c1496be1004a",
   "metadata": {},
   "outputs": [
    {
     "name": "stdout",
     "output_type": "stream",
     "text": [
      "[0, 1, 2, 3, 4, 5, 6, 7, 8, 9] [10, 11, 12, 13, 14, 15, 16, 17, 18, 19] [20, 21, 22, 23, 24, 25, 26, 27, 28, 29] [30, 31, 32, 33, 34, 35, 36, 37, 38, 39] [40, 41, 42, 43, 44, 45, 46, 47, 48, 49] [50, 51, 52, 53, 54, 55, 56, 57, 58, 59] [60, 61, 62, 63, 64, 65, 66, 67, 68, 69] [70, 71, 72, 73, 74, 75, 76, 77, 78, 79] [80, 81, 82, 83, 84, 85, 86, 87, 88, 89] [90, 91, 92, 93, 94, 95, 96, 97, 98, 99] [100, 101, 102, 103, 104, 105, 106, 107, 108, 109] [110, 111, 112, 113, 114, 115, 116, 117, 118, 119] [120, 121, 122, 123, 124, 125, 126, 127, 128, 129] [130, 131, 132, 133, 134, 135, 136, 137, 138, 139] [140, 141, 142, 143, 144, 145, 146, 147, 148, 149] \n",
      "a> 7행 8열 값은 78번째 값\n",
      "b> 7행 8열 값은 78번째 값\n"
     ]
    }
   ],
   "source": [
    "## [문제-9] 행렬 값의 순서\n",
    "## [질문-1] 만약 15x10 행렬이라면 7행 8열의 값은 몇 번째 값에 해당하는가?\n",
    "row = 15\n",
    "col = 10\n",
    "\n",
    "# 배열 순서번호로 초기화\n",
    "arr = [[col*i+j for j in range(col)] for i in range(row)]  #2차원 배열 생성\n",
    "for r in arr:  #2차원 배열 출력\n",
    "    print(r, end=' ')\n",
    "\n",
    "## <a> 식으로 순서 번호 환산\n",
    "r = 7  #행\n",
    "c = 8  #열\n",
    "seq_no = col * r + c\n",
    "print(\"\\na> %d행 %d열 값은 %d번째 값\" %(r, c, seq_no))\n",
    "\n",
    "## <b> 찾아가는 방식으로 순서 번호 환산\n",
    "seq_no = -1  #순서 번호(0부터 시작) 초기값\n",
    "chk = ''\n",
    "for i in range(row):\n",
    "    for j in range(col):\n",
    "        seq_no = seq_no + 1\n",
    "        if i == r and j == c:  #7행 8열\n",
    "            chk = 'break'\n",
    "            break  #반복문 탈출\n",
    "    if chk == 'break':\n",
    "        break  #반복문 탈출\n",
    "print(\"b> %d행 %d열 값은 %d번째 값\" %(r, c, seq_no))"
   ]
  },
  {
   "cell_type": "code",
   "execution_count": 53,
   "id": "6ff1c7ab-5a1f-47dc-8293-74d0710612e9",
   "metadata": {},
   "outputs": [
    {
     "name": "stdout",
     "output_type": "stream",
     "text": [
      "[0, 1, 2, 3, 4, 5, 6, 7, 8, 9] [10, 11, 12, 13, 14, 15, 16, 17, 18, 19] [20, 21, 22, 23, 24, 25, 26, 27, 28, 29] [30, 31, 32, 33, 34, 35, 36, 37, 38, 39] [40, 41, 42, 43, 44, 45, 46, 47, 48, 49] [50, 51, 52, 53, 54, 55, 56, 57, 58, 59] [60, 61, 62, 63, 64, 65, 66, 67, 68, 69] [70, 71, 72, 73, 74, 75, 76, 77, 78, 79] [80, 81, 82, 83, 84, 85, 86, 87, 88, 89] [90, 91, 92, 93, 94, 95, 96, 97, 98, 99] [100, 101, 102, 103, 104, 105, 106, 107, 108, 109] [110, 111, 112, 113, 114, 115, 116, 117, 118, 119] [120, 121, 122, 123, 124, 125, 126, 127, 128, 129] [130, 131, 132, 133, 134, 135, 136, 137, 138, 139] [140, 141, 142, 143, 144, 145, 146, 147, 148, 149] \n",
      "a> 96번째 값은 9행 6열\n",
      "b> 96번째 값은 9행 6열\n"
     ]
    }
   ],
   "source": [
    "## [문제-9] 행렬 값의 순서\n",
    "## [질문-2] 만약 15x10 행렬이라면 96번째 값은 몇 행 몇 열에 있는가?\n",
    "row = 15\n",
    "col = 10\n",
    "\n",
    "# 배열 순서번호로 초기화\n",
    "arr = [[col*i+j for j in range(col)] for i in range(row)]  #2차원 배열 생성\n",
    "for r in arr:  #2차원 배열 출력\n",
    "    print(r, end=' ')\n",
    "\n",
    "## <a> 식으로 행, 열 값 환산\n",
    "seq_no = 96\n",
    "r = seq_no // col    #행 계산\n",
    "c = seq_no % col  #열 계산\n",
    "print(\"\\na> %d번째 값은 %d행 %d열\" %(seq_no, r, c))\n",
    "\n",
    "## <b> 찾아가는 방식으로 행, 열 값 환산\n",
    "seq = -1  #순서 번호(0부터 시작) 초기값\n",
    "chk = ''\n",
    "for i in range(row):\n",
    "    for j in range(col):\n",
    "        seq = seq + 1\n",
    "        if seq == seq_no:  #96번째\n",
    "            chk = 'break'\n",
    "            break  #반복문 탈출\n",
    "    if chk == 'break':\n",
    "        break  #반복문 탈출\n",
    "print(\"b> %d번째 값은 %d행 %d열\" %(seq_no, i, j))"
   ]
  },
  {
   "cell_type": "code",
   "execution_count": null,
   "id": "9e735fd1-65e5-4576-bb71-a34dd89e58df",
   "metadata": {},
   "outputs": [],
   "source": []
  }
 ],
 "metadata": {
  "kernelspec": {
   "display_name": "Python 3 (ipykernel)",
   "language": "python",
   "name": "python3"
  },
  "language_info": {
   "codemirror_mode": {
    "name": "ipython",
    "version": 3
   },
   "file_extension": ".py",
   "mimetype": "text/x-python",
   "name": "python",
   "nbconvert_exporter": "python",
   "pygments_lexer": "ipython3",
   "version": "3.9.13"
  }
 },
 "nbformat": 4,
 "nbformat_minor": 5
}
