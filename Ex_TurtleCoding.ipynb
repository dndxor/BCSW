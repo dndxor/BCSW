{
 "cells": [
  {
   "cell_type": "markdown",
   "id": "80e79410-a042-4a2b-b99d-50b5744b1bbe",
   "metadata": {},
   "source": [
    "# [Python] 코딩에 대한 이해와 함수 호출 개념\n",
    "#### > 알고리즘을 코드로 구현하는 과정 이해\n",
    "#### > 외부 패키지 모듈을 임포트(import) 하여 사용하는 개념 이해\n",
    "#### > 변수 사용하는 이유 이해\n",
    "#### > 패턴을 찾아 코드를 일반화 하는 개념 이해\n",
    "#### > 특정 코드를 함수로 독립시켜 재사용하는 개념 이해\n",
    "#### > 함수 구성 및 호출 방법 이해"
   ]
  },
  {
   "cell_type": "markdown",
   "id": "b21e9402-3846-46cd-baf6-110e3afde121",
   "metadata": {},
   "source": [
    "## >> 패키지 모듈 임포트\n",
    "#### > import turtle    #손쉽게 그래픽 구현이 가능한 Demo 모듈 제공"
   ]
  },
  {
   "cell_type": "code",
   "execution_count": 7,
   "id": "0c84b4af-8a49-4e96-8071-a1a6bada49dc",
   "metadata": {},
   "outputs": [],
   "source": [
    "## 패키지 모듈 임포트 개념 이해\n",
    "import turtle\n",
    "\n",
    "################## 메인 시작 ############\n",
    "turtle.shape('turtle')  #Turtle 모양\n",
    "\n",
    "turtle.exitonclick()  # 실행 창을 닫지 않도록\n",
    "################# 메인 끝 ##############"
   ]
  },
  {
   "cell_type": "code",
   "execution_count": 19,
   "id": "436c81c7-9eee-4aa9-adca-fa2d08982035",
   "metadata": {},
   "outputs": [],
   "source": [
    "## 패키지 모듈 임포트 개념 이해\n",
    "import turtle as t\n",
    "\n",
    "################## 메인 시작 ############\n",
    "t.shape('turtle')  #Turtle 모양\n",
    "\n",
    "t.forward(100)  #앞으로 100 pixcel 이동\n",
    "\n",
    "t.exitonclick()  # 실행 창을 닫지 않도록\n",
    "################# 메인 끝 ##############"
   ]
  },
  {
   "cell_type": "code",
   "execution_count": 21,
   "id": "6309969d-6f50-4a35-b28d-d22e46ea38ca",
   "metadata": {},
   "outputs": [],
   "source": [
    "## 패키지 모듈 임포트 개념 이해\n",
    "import turtle as t\n",
    "\n",
    "################## 메인 시작 ############\n",
    "t.shape('turtle')  #Turtle 모양\n",
    "\n",
    "t.forward(100)  #앞으로 100 pixcel 이동\n",
    "t.left(90)  #좌로 90도 회전\n",
    "\n",
    "t.exitonclick()  # 실행 창을 닫지 않도록\n",
    "################# 메인 끝 ##############"
   ]
  },
  {
   "cell_type": "code",
   "execution_count": 23,
   "id": "4091642c-69fe-4895-a45c-1af89fb9ebd2",
   "metadata": {},
   "outputs": [],
   "source": [
    "## 패키지 모듈 임포트 개념 이해\n",
    "import turtle as t\n",
    "\n",
    "################## 메인 시작 ############\n",
    "t.shape('turtle')  #Turtle 모양\n",
    "\n",
    "t.forward(100)  #앞으로 100 pixcel 이동\n",
    "t.left(90)  #좌로 90도 회전\n",
    "t.forward(100)  #앞으로 100 pixcel 이동\n",
    "t.left(90)  #좌로 90도 회전\n",
    "t.forward(100)  #앞으로 100 pixcel 이동\n",
    "t.left(90)  #좌로 90도 회전\n",
    "t.forward(100)  #앞으로 100 pixcel 이동\n",
    "t.left(90)  #좌로 90도 회전\n",
    "\n",
    "t.exitonclick()  # 실행 창을 닫지 않도록\n",
    "################# 메인 끝 ##############"
   ]
  },
  {
   "cell_type": "markdown",
   "id": "ba5d5b8f-49c9-412a-9364-60e25eb8f0aa",
   "metadata": {},
   "source": [
    "## >> 변수 사용\n",
    "#### > 변수(Variable)는 명령어가 실행되는 동안 임시적으로 사용할 값을 저장해놓는 메모리 공간 이름\n",
    "#### > 상수(Constant) 대신 변수를 사용함으로서 알고리즘의 패턴을 얻을 수 있고, 일반화가 가능하다."
   ]
  },
  {
   "cell_type": "code",
   "execution_count": 27,
   "id": "6065aefd-c79a-4794-97b8-5b05e2686cd0",
   "metadata": {},
   "outputs": [],
   "source": [
    "## 패키지 모듈 임포트 개념 이해\n",
    "import turtle as t\n",
    "\n",
    "################## 메인 시작 ############\n",
    "t.shape('turtle')  #Turtle 모양\n",
    "\n",
    "step = 100\n",
    "angle = 90\n",
    "\n",
    "t.forward(step)  #앞으로 100 pixcel 이동\n",
    "t.left(angle)  #좌로 90도 회전\n",
    "t.forward(step)  #앞으로 100 pixcel 이동\n",
    "t.left(angle)  #좌로 90도 회전\n",
    "t.forward(step)  #앞으로 100 pixcel 이동\n",
    "t.left(angle)  #좌로 90도 회전\n",
    "t.forward(step)  #앞으로 100 pixcel 이동\n",
    "t.left(angle)  #좌로 90도 회전\n",
    "\n",
    "t.exitonclick()  # 실행 창을 닫지 않도록\n",
    "################# 메인 끝 ##############"
   ]
  },
  {
   "cell_type": "markdown",
   "id": "2d20a5fc-369d-4389-9da7-ea41b1762947",
   "metadata": {},
   "source": [
    "## >> 코드 일반화\n",
    "#### > 변수(Variable)를 사용함으로서 알고리즘의 패턴을 얻을 수 있다.\n",
    "#### > 패턴이 있으면 일반화가 가능하다."
   ]
  },
  {
   "cell_type": "code",
   "execution_count": 29,
   "id": "1af3d652-de7a-49bb-9469-059a843a8b76",
   "metadata": {},
   "outputs": [],
   "source": [
    "## 패키지 모듈 임포트 개념 이해\n",
    "import turtle as t\n",
    "\n",
    "################## 메인 시작 ############\n",
    "t.shape('turtle')  #Turtle 모양\n",
    "\n",
    "step = 100\n",
    "angle = 90\n",
    "\n",
    "for _ in range(4):  #4회 반복\n",
    "    t.forward(step)  #앞으로 100 pixcel 이동\n",
    "    t.left(angle)  #좌로 90도 회전\n",
    "\n",
    "t.exitonclick()  # 실행 창을 닫지 않도록\n",
    "################# 메인 끝 ##############"
   ]
  },
  {
   "cell_type": "code",
   "execution_count": 31,
   "id": "7f965518-8019-49d5-b7e2-45a485428b30",
   "metadata": {},
   "outputs": [],
   "source": [
    "## 패키지 모듈 임포트 개념 이해\n",
    "import turtle as t\n",
    "\n",
    "################## 메인 시작 ############\n",
    "t.shape('turtle')  #Turtle 모양\n",
    "\n",
    "n = 4\n",
    "step = 100\n",
    "angle = 90\n",
    "\n",
    "for _ in range(n):  #n회 반복\n",
    "    t.forward(step)  #앞으로 100 pixcel 이동\n",
    "    t.left(angle)  #좌로 90도 회전\n",
    "\n",
    "t.exitonclick()  # 실행 창을 닫지 않도록\n",
    "################# 메인 끝 ##############"
   ]
  },
  {
   "cell_type": "code",
   "execution_count": 33,
   "id": "06b9d254-e084-4aac-87d5-022e62fe5729",
   "metadata": {},
   "outputs": [],
   "source": [
    "## 패키지 모듈 임포트 개념 이해\n",
    "import turtle as t\n",
    "\n",
    "################## 메인 시작 ############\n",
    "t.shape('turtle')  #Turtle 모양\n",
    "\n",
    "n = 4\n",
    "step = 100\n",
    "angle = 360 // n  # //는 나눈 몫\n",
    "\n",
    "for _ in range(n):  #n회 반복\n",
    "    t.forward(step)  #앞으로 100 pixcel 이동\n",
    "    t.left(angle)  #좌로 90도 회전\n",
    "\n",
    "t.exitonclick()  # 실행 창을 닫지 않도록\n",
    "################# 메인 끝 ##############"
   ]
  },
  {
   "cell_type": "code",
   "execution_count": 35,
   "id": "4dfd6514-5a13-47c2-b88a-5834cd89c9f2",
   "metadata": {},
   "outputs": [
    {
     "name": "stdin",
     "output_type": "stream",
     "text": [
      ">몇 각형(3~n)?  3\n"
     ]
    }
   ],
   "source": [
    "## 패키지 모듈 임포트 개념 이해\n",
    "import turtle as t\n",
    "\n",
    "################## 메인 시작 ############\n",
    "t.shape('turtle')  #Turtle 모양\n",
    "\n",
    "n = int(input(\">몇 각형(3~n)? \"))\n",
    "step = 100\n",
    "angle = 360 // n  # //는 나눈 몫\n",
    "\n",
    "for _ in range(n):  #n회 반복\n",
    "    t.forward(step)  #앞으로 100 pixcel 이동\n",
    "    t.left(angle)  #좌로 90도 회전\n",
    "\n",
    "t.exitonclick()  # 실행 창을 닫지 않도록\n",
    "################# 메인 끝 ##############"
   ]
  },
  {
   "cell_type": "markdown",
   "id": "da30e345-abb3-4a13-8554-7d27a36a4443",
   "metadata": {},
   "source": [
    "## >> 함수 사용\n",
    "#### > 함수(Function)는 유사 기능을 하는 명령어들을 묶어놓은 모듈이다.\n",
    "#### > 필요 시마다 함수를 호출하여 사용할 수 있는 재사용성으로 프로그램 구조가 단순화 된다."
   ]
  },
  {
   "cell_type": "code",
   "execution_count": 1,
   "id": "f7924d41-8231-4fda-b3c7-95e1a537b816",
   "metadata": {},
   "outputs": [
    {
     "name": "stdin",
     "output_type": "stream",
     "text": [
      ">몇 각형(3~n)?  5\n"
     ]
    }
   ],
   "source": [
    "## Python 코딩 연습 ##\n",
    "## 패턴을 함수로 독립 > 재사용 개념 이해\n",
    "import turtle as t\n",
    "\n",
    "def render(n, step):\n",
    "    angle = 360 / n\n",
    "    for _ in range(n):  #n번 반복\n",
    "        t.forward(step) #90pixcel 전진\n",
    "        t.left(angle)  #좌로 90도 회전\n",
    "        \n",
    "################## 메인 시작 ############\n",
    "t.shape('turtle')  #Turtle 모양\n",
    "\n",
    "n = int(input(\">몇 각형(3~n)? \"))\n",
    "step = 100\n",
    "render(n, step)  #함수 호출\n",
    "\n",
    "t.exitonclick()  # 실행 창을 닫지 않도록\n",
    "################# 메인 끝 ##############"
   ]
  },
  {
   "cell_type": "code",
   "execution_count": 3,
   "id": "629a5ecb-61c9-4c91-ad08-97e2166e8e2d",
   "metadata": {},
   "outputs": [
    {
     "name": "stdin",
     "output_type": "stream",
     "text": [
      ">몇 각형(3~n)?  3\n",
      ">몇 각형(3~n)?  4\n",
      ">몇 각형(3~n)?  5\n",
      ">몇 각형(3~n)?  2\n"
     ]
    }
   ],
   "source": [
    "## Python 코딩 연습 ##\n",
    "## 패턴을 함수로 독립 > 재사용 개념 이해\n",
    "import turtle as t\n",
    "\n",
    "def render(n, step):\n",
    "    angle = 360 / n\n",
    "    for _ in range(n):  #n번 반복\n",
    "        t.forward(step) #90pixcel 전진\n",
    "        t.left(angle)  #좌로 90도 회전\n",
    "        \n",
    "################## 메인 시작 ############\n",
    "t.shape('turtle')  #Turtle 모양\n",
    "\n",
    "while True:  #무한 반복\n",
    "    n = int(input(\">몇 각형(3~n)? \"))\n",
    "    if n < 3:\n",
    "        break  #반복 탈출\n",
    "    step = 100\n",
    "    render(n, step)  #함수 호출\n",
    "\n",
    "t.exitonclick()  # 실행 창을 닫지 않도록\n",
    "################# 메인 끝 ##############"
   ]
  },
  {
   "cell_type": "markdown",
   "id": "70b61066-48b2-4974-a6e8-0c50ce19f6c8",
   "metadata": {},
   "source": [
    "## >> 함수 호출\n",
    "#### > 필요 시마다 함수를 호출하여 사용할 수 있는 재사용성으로 프로그램 구조가 단순화 된다.\n",
    "#### > 함수 호출 시 매개변수를 통해 값을 전달하여 실행을 맡긴다. "
   ]
  },
  {
   "cell_type": "code",
   "execution_count": 10,
   "id": "aff6d1cb-1f34-4620-8aff-4fb012771701",
   "metadata": {},
   "outputs": [
    {
     "name": "stdin",
     "output_type": "stream",
     "text": [
      ">몇 각형(3~n)?  5\n"
     ]
    }
   ],
   "source": [
    "## Python 코딩 연습 ##\n",
    "## 함수 호출 개념 이해\n",
    "import turtle as t\n",
    "\n",
    "def render(n, step=100, rgb=(0, 0, 0)):  #매개변수 기본값(default value) 지정\n",
    "    t.pencolor(rgb)\n",
    "    t.pendown()\n",
    "    \n",
    "    angle = 360 / n\n",
    "    for _ in range(n):  #n번 반복\n",
    "        t.forward(step) #90pixcel 전진\n",
    "        t.left(angle)  #좌로 90도 회전\n",
    "        \n",
    "################## 메인 시작 ############\n",
    "# 4각형 그리기 Raw Coding\n",
    "n = int(input(\">몇 각형(3~n)? \"))\n",
    "step = 100\n",
    "pencolor = (0, 0, 1)  #(r, g, b) 펜 컬러 지정(0.0~1.0)\n",
    "render(n, rgb=pencolor, step=50)  #함수 호출: default 매개변수에 대해 원하는 값만 선택 전달(순서 무관)\n",
    "\n",
    "t.exitonclick()  # 실행 창을 닫지 않도록 조치치\n",
    "################# 메인 끝 ##############"
   ]
  },
  {
   "cell_type": "code",
   "execution_count": null,
   "id": "b924ce6e-8567-426c-8e6b-835e960f0a40",
   "metadata": {},
   "outputs": [],
   "source": []
  }
 ],
 "metadata": {
  "kernelspec": {
   "display_name": "Python 3 (ipykernel)",
   "language": "python",
   "name": "python3"
  },
  "language_info": {
   "codemirror_mode": {
    "name": "ipython",
    "version": 3
   },
   "file_extension": ".py",
   "mimetype": "text/x-python",
   "name": "python",
   "nbconvert_exporter": "python",
   "pygments_lexer": "ipython3",
   "version": "3.9.13"
  }
 },
 "nbformat": 4,
 "nbformat_minor": 5
}
