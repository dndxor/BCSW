{
 "cells": [
  {
   "cell_type": "markdown",
   "id": "80e79410-a042-4a2b-b99d-50b5744b1bbe",
   "metadata": {},
   "source": [
    "# 제공 모듈을 이용한 코딩 과정에 대한 이해\n",
    "### [코딩 과정] 작업 절차 구성 > 변수 사용 > 패턴 구성 > 일반화 > 구조화\n",
    "#### > 알고리즘이 코드로 구현되면서 일반화, 구조화 되어가는 과정을 이해\n",
    "#### > 외부 패키지 모듈을 임포트(import) 하여 사용하는 개념 이해\n",
    "#### > 변수 사용하는 이유 이해\n",
    "#### > 패턴을 찾아 코드를 일반화 하는 개념 이해\n",
    "#### > 특정 코드를 함수로 독립시켜 재사용하는 개념 이해"
   ]
  },
  {
   "cell_type": "markdown",
   "id": "b21e9402-3846-46cd-baf6-110e3afde121",
   "metadata": {},
   "source": [
    "## [A] 제공되는 패키지 모듈 사용\n",
    "#### > import 모듈명    # 손쉽게 그래픽 구현이 가능한 함수 모듈을 빌려서 사용"
   ]
  },
  {
   "cell_type": "code",
   "execution_count": 7,
   "id": "0c84b4af-8a49-4e96-8071-a1a6bada49dc",
   "metadata": {},
   "outputs": [],
   "source": [
    "## [A-1] turtle 모듈 임포트\n",
    "import turtle\n",
    "\n",
    "################## 메인 시작 ############\n",
    "turtle.shape('turtle')  #Turtle 모양\n",
    "\n",
    "turtle.exitonclick()  # 실행 창을 닫지 않도록\n",
    "################# 메인 끝 ##############"
   ]
  },
  {
   "cell_type": "code",
   "execution_count": 19,
   "id": "436c81c7-9eee-4aa9-adca-fa2d08982035",
   "metadata": {},
   "outputs": [],
   "source": [
    "## [A-2] turtle 모듈 임포트: 모듈 함수 사용\n",
    "import turtle as t  #별명을 r로 사용\n",
    "\n",
    "################## 메인 시작 ############\n",
    "t.shape('turtle')  #Turtle 모양\n",
    "\n",
    "t.forward(100)  #앞으로 100 pixcel 이동\n",
    "\n",
    "t.exitonclick()  # 실행 창을 닫지 않도록\n",
    "################# 메인 끝 ##############"
   ]
  },
  {
   "cell_type": "code",
   "execution_count": 3,
   "id": "6309969d-6f50-4a35-b28d-d22e46ea38ca",
   "metadata": {},
   "outputs": [],
   "source": [
    "## [A-3] turtle 모듈 임포트: 모듈 함수 사용\n",
    "import turtle as t  #Turtle 모양\n",
    "\n",
    "################## 메인 시작 ############\n",
    "t.shape('turtle')  #Turtle 모양\n",
    "\n",
    "t.forward(100)  #앞으로 100 pixcel 이동\n",
    "t.left(90)  #좌로 90도 회전\n",
    "\n",
    "t.exitonclick()  # 실행 창을 닫지 않도록\n",
    "################# 메인 끝 ##############"
   ]
  },
  {
   "cell_type": "markdown",
   "id": "7ae6de23-06ed-4612-8132-9d73c30edfa7",
   "metadata": {},
   "source": [
    "## [B] 4-각형 그리기 작업 절차 구성\n",
    "#### > '전진 100 > 좌로 회전 90도'를 4번 반복"
   ]
  },
  {
   "cell_type": "code",
   "execution_count": 1,
   "id": "4091642c-69fe-4895-a45c-1af89fb9ebd2",
   "metadata": {},
   "outputs": [],
   "source": [
    "## [B-1] turtle 모듈 임포트: 모듈 함수 사용\n",
    "## turtle이 4각형 그리rl: 작업 절차 구성\n",
    "import turtle as t\n",
    "\n",
    "################## 메인 시작 ############\n",
    "t.shape('turtle')  #Turtle 모양\n",
    "\n",
    "t.forward(100)  #앞으로 100 pixcel 이동\n",
    "t.left(90)  #좌로 90도 회전\n",
    "t.forward(100)  #앞으로 100 pixcel 이동\n",
    "t.left(90)  #좌로 90도 회전\n",
    "t.forward(100)  #앞으로 100 pixcel 이동\n",
    "t.left(90)  #좌로 90도 회전\n",
    "t.forward(100)  #앞으로 100 pixcel 이동\n",
    "t.left(90)  #좌로 90도 회전\n",
    "\n",
    "t.exitonclick()  # 실행 창을 닫지 않도록\n",
    "################# 메인 끝 ##############"
   ]
  },
  {
   "cell_type": "markdown",
   "id": "ba5d5b8f-49c9-412a-9364-60e25eb8f0aa",
   "metadata": {},
   "source": [
    "## [C] 변수 사용\n",
    "#### > 변수(Variable)는 명령어가 실행되는 동안 사용할 값을 임시적으로 저장해놓는 메모리 공간 이름\n",
    "#### > 상수(Constant) 대신 변수를 사용함으로서 알고리즘의 패턴을 얻을 수 있고, 일반화가 가능하다."
   ]
  },
  {
   "cell_type": "code",
   "execution_count": 27,
   "id": "6065aefd-c79a-4794-97b8-5b05e2686cd0",
   "metadata": {},
   "outputs": [],
   "source": [
    "## [C-1] turtle 모듈 임포트: 모듈 함수 사용\n",
    "## turtle이 4각형 그리기: 작업 절차 구성 > 변수 사용\n",
    "import turtle as t\n",
    "\n",
    "################## 메인 시작 ############\n",
    "t.shape('turtle')  #Turtle 모양\n",
    "\n",
    "step = 100\n",
    "angle = 90\n",
    "\n",
    "t.forward(step)  #앞으로 100 pixcel 이동\n",
    "t.left(angle)  #좌로 90도 회전\n",
    "t.forward(step)  #앞으로 100 pixcel 이동\n",
    "t.left(angle)  #좌로 90도 회전\n",
    "t.forward(step)  #앞으로 100 pixcel 이동\n",
    "t.left(angle)  #좌로 90도 회전\n",
    "t.forward(step)  #앞으로 100 pixcel 이동\n",
    "t.left(angle)  #좌로 90도 회전\n",
    "\n",
    "t.exitonclick()  # 실행 창을 닫지 않도록\n",
    "################# 메인 끝 ##############"
   ]
  },
  {
   "cell_type": "markdown",
   "id": "2d20a5fc-369d-4389-9da7-ea41b1762947",
   "metadata": {},
   "source": [
    "## [D]  코드의 일반화\n",
    "#### > 변수(Variable)를 사용함으로서 동일 알고리즘(패턴)으로 다양의 결과를 얻을 수 있다."
   ]
  },
  {
   "cell_type": "code",
   "execution_count": 29,
   "id": "1af3d652-de7a-49bb-9469-059a843a8b76",
   "metadata": {},
   "outputs": [],
   "source": [
    "## [D-1] turtle 모듈 임포트: 모듈 함수 사용\n",
    "## turtle이 4각형 그리기: 작업 절차 구성 > 변수 사용 > 패턴 구성\n",
    "import turtle as t\n",
    "\n",
    "################## 메인 시작 ############\n",
    "t.shape('turtle')  #Turtle 모양\n",
    "\n",
    "step = 100\n",
    "angle = 90\n",
    "\n",
    "for _ in range(4):  #4회 반복\n",
    "    t.forward(step)  #앞으로 100 pixcel 이동\n",
    "    t.left(angle)  #좌로 90도 회전\n",
    "\n",
    "t.exitonclick()  # 실행 창을 닫지 않도록\n",
    "################# 메인 끝 ##############"
   ]
  },
  {
   "cell_type": "code",
   "execution_count": 33,
   "id": "06b9d254-e084-4aac-87d5-022e62fe5729",
   "metadata": {},
   "outputs": [],
   "source": [
    "## [D-2] turtle 모듈 임포트: 모듈 함수 사용\n",
    "## turtle이 4각형 그리기: 작업 절차 구성 > 변수 사용 > 패턴 구성 > 일반화\n",
    "import turtle as t\n",
    "\n",
    "################## 메인 시작 ############\n",
    "t.shape('turtle')  #Turtle 모양\n",
    "\n",
    "n = 4\n",
    "step = 100\n",
    "angle = 360 // n  # //는 나눈 몫\n",
    "\n",
    "for _ in range(n):  #n회 반복\n",
    "    t.forward(step)  #앞으로 100 pixcel 이동\n",
    "    t.left(angle)  #좌로 90도 회전\n",
    "\n",
    "t.exitonclick()  # 실행 창을 닫지 않도록\n",
    "################# 메인 끝 ##############"
   ]
  },
  {
   "cell_type": "code",
   "execution_count": 35,
   "id": "4dfd6514-5a13-47c2-b88a-5834cd89c9f2",
   "metadata": {},
   "outputs": [
    {
     "name": "stdin",
     "output_type": "stream",
     "text": [
      ">몇 각형(3~n)?  3\n"
     ]
    }
   ],
   "source": [
    "## [D-3] turtle 모듈 임포트: 모듈 함수 사용\n",
    "## turtle이 4각형 그리기: 작업 절차 구성 > 변수 사용 > 패턴 구성 > 일반화\n",
    "## 키보드 입력 처리\n",
    "import turtle as t\n",
    "\n",
    "################## 메인 시작 ############\n",
    "t.shape('turtle')  #Turtle 모양\n",
    "\n",
    "n = int(input(\">몇 각형(3~n)? \"))  #키보드 입력 처리\n",
    "step = 100\n",
    "angle = 360 // n  # //는 나눈 몫\n",
    "\n",
    "for _ in range(n):  #n회 반복\n",
    "    t.forward(step)  #앞으로 100 pixcel 이동\n",
    "    t.left(angle)  #좌로 90도 회전\n",
    "\n",
    "t.exitonclick()  # 실행 창을 닫지 않도록\n",
    "################# 메인 끝 ##############"
   ]
  },
  {
   "cell_type": "markdown",
   "id": "da30e345-abb3-4a13-8554-7d27a36a4443",
   "metadata": {},
   "source": [
    "## [E] 함수를 사용한 구조화\n",
    "#### > 함수(Function)는 유사 기능을 하는 명령어들을 묶어놓은 모듈이다.\n",
    "#### > 필요 시마다 함수를 호출하여 사용할 수 있다.\n",
    "#### > 함수의 재사용성으로 프로그램 구조가 단순화 된다."
   ]
  },
  {
   "cell_type": "code",
   "execution_count": 1,
   "id": "f7924d41-8231-4fda-b3c7-95e1a537b816",
   "metadata": {},
   "outputs": [
    {
     "name": "stdin",
     "output_type": "stream",
     "text": [
      ">몇 각형(3~n)?  5\n"
     ]
    }
   ],
   "source": [
    "## [E-1] turtle 모듈 임포트: 모듈 함수 사용\n",
    "## turtle이 4각형 그리기: 작업 절차 구성 > 변수 사용 > 패턴 구성 > 일반화 > 구조화\n",
    "## 함수를 사용한 구조화\n",
    "import turtle as t\n",
    "\n",
    "def render(n, step):\n",
    "    angle = 360 / n\n",
    "    for _ in range(n):  #n번 반복\n",
    "        t.forward(step) #90pixcel 전진\n",
    "        t.left(angle)  #좌로 90도 회전\n",
    "        \n",
    "################## 메인 시작 ############\n",
    "t.shape('turtle')  #Turtle 모양\n",
    "\n",
    "n = int(input(\">몇 각형(3~n)? \"))\n",
    "step = 100\n",
    "render(n, step)  #함수 호출\n",
    "\n",
    "t.exitonclick()  # 실행 창을 닫지 않도록\n",
    "################# 메인 끝 ##############"
   ]
  },
  {
   "cell_type": "code",
   "execution_count": 11,
   "id": "1d602471-ca6b-4def-b961-65f97453e408",
   "metadata": {},
   "outputs": [],
   "source": [
    "## [E-2] turtle 모듈 임포트: 모듈 함수 사용\n",
    "## turtle이 4각형 그리기: 작업 절차 구성 > 변수 사용 > 패턴 구성 > 일반화 > 구조화\n",
    "## for 반복문으로 함수 여러번 호출\n",
    "import turtle as t\n",
    "\n",
    "def render(n, step):\n",
    "    angle = 360 / n\n",
    "    for _ in range(n):  #n번 반복\n",
    "        t.forward(step) #90pixcel 전진\n",
    "        t.left(angle)  #좌로 90도 회전\n",
    "        \n",
    "################## 메인 시작 ############\n",
    "t.shape('turtle')  #Turtle 모양\n",
    "\n",
    "for n in range(3, 16, 1):  #조건 반복: 반복 조건 n은 3에서 16이 되기 전까지(1씩 증가)\n",
    "    step = 100\n",
    "    render(n, step)  #함수 호출\n",
    "\n",
    "t.exitonclick()  # 실행 창을 닫지 않도록\n",
    "################# 메인 끝 ##############"
   ]
  },
  {
   "cell_type": "markdown",
   "id": "70b61066-48b2-4974-a6e8-0c50ce19f6c8",
   "metadata": {},
   "source": [
    "## [F] 프로그램 업그레이드\n",
    "### >> 마우스 클릭에 반응하는 함수 추가\n",
    "#### > 프로그램에 새로운 기능을 추가한다는 것은 주로 필요한 함수를 추가 생성 후 호출로 사용한다. \n",
    "#### > 즉, 프로그램의 메인(main) 부분은 작업의 절차에 따른 함수 호출 구문 위주로 구성되게 된다."
   ]
  },
  {
   "cell_type": "code",
   "execution_count": 10,
   "id": "45611502-b3f6-4670-bd12-bd2c2027372a",
   "metadata": {},
   "outputs": [],
   "source": [
    "## [F-1] turtle 모듈 임포트: 모듈 함수 사용\n",
    "## turtle이 4각형 그리기: 작업 절차 구성 > 변수 사용 > 패턴 구성 > 일반화 > 구조화\n",
    "## 함수 사용: 마우스 클릭에 반응하는 함수 > left_click()\n",
    "import turtle as t\n",
    "import random\n",
    "\n",
    "def render(n, step):\n",
    "    angle = 360 / n\n",
    "    for _ in range(n):  #n번 반복\n",
    "        t.forward(step) #90pixcel 전진\n",
    "        t.left(angle)  #좌로 90도 회전\n",
    "\n",
    "def left_click(x, y):  #마우스 클릭 위치 좌표값 x, y\n",
    "    t.goto(x, y) #(x, y) 좌표로 이동\n",
    "    \n",
    "################## 메인 시작 ############\n",
    "t.shape('turtle')  #Turtle 모양\n",
    "\n",
    "t.onscreenclick(left_click, 1)  #마우스 왼쪽 버튼(1번) 클릭 시 함수(left_click() 호출\n",
    "\n",
    "t.done()  #계속 동작\n",
    "################# 메인 끝 ##############"
   ]
  },
  {
   "cell_type": "code",
   "execution_count": 6,
   "id": "f184998b-86bf-4839-8088-fab0ac17303a",
   "metadata": {},
   "outputs": [],
   "source": [
    "## [F-2] turtle 모듈 임포트: 모듈 함수 사용\n",
    "## turtle이 4각형 그리기: 작업 절차 구성 > 변수 사용 > 패턴 구성 > 일반화 > 구조화\n",
    "## 함수 사용: 마우스 클릭에 반응하는 함수 > left_click()\n",
    "import turtle as t\n",
    "import random\n",
    "\n",
    "def render(n, step):\n",
    "    angle = 360 / n\n",
    "    for _ in range(n):  #n번 반복\n",
    "        t.forward(step) #90pixcel 전진\n",
    "        t.left(angle)  #좌로 90도 회전\n",
    "\n",
    "def left_click(x, y):  #마우스 클릭 위치 좌표값 x, y\n",
    "    t.goto(x, y) #(x, y) 좌표로 이동\n",
    "\n",
    "def mid_click(x, y):  #마우스 클릭 위치 좌표값 x, y\n",
    "    pass  #아무 일 안함\n",
    "\n",
    "def right_click(x, y):  #마우스 클릭 위치 좌표값 x, y\n",
    "    pass  #아무 일 안함\n",
    "\n",
    "################## 메인 시작 ############\n",
    "t.shape('turtle')  #Turtle 모양\n",
    "\n",
    "t.onscreenclick(left_click, 1)  #마우스 왼쪽 버튼(1번) 클릭 시 함수(left_click() 호출\n",
    "t.onscreenclick(mid_click, 2)  #마우스 가운데 버튼(2번) 클릭 시 함수(mid_click() 호출\n",
    "t.onscreenclick(right_click, 3)  #마우스 오른쪽 버튼(3번) 클릭 시 함수(right_click() 호출\n",
    "\n",
    "t.done()  #계속 동작\n",
    "################# 메인 끝 ##############"
   ]
  },
  {
   "cell_type": "code",
   "execution_count": 14,
   "id": "fbaf9597-39ea-4f12-a733-513279581d2b",
   "metadata": {},
   "outputs": [],
   "source": [
    "## [F-3] turtle 모듈 임포트: 모듈 함수 사용\n",
    "## turtle이 4각형 그리기: 작업 절차 구성 > 변수 사용 > 패턴 구성 > 일반화 > 구조화\n",
    "## 함수 사용: 마우스 클릭에 반응하는 함수 > mid_click()\n",
    "import turtle as t\n",
    "import random\n",
    "\n",
    "def render(n, step):\n",
    "    angle = 360 / n\n",
    "    for _ in range(n):  #n번 반복\n",
    "        t.forward(step) #90pixcel 전진\n",
    "        t.left(angle)  #좌로 90도 회전\n",
    "\n",
    "def left_click(x, y):  #마우스 클릭 위치 (x, y)로 이동\n",
    "    t.goto(x, y) #(x, y) 좌표로 이동\n",
    "\n",
    "def mid_click(x, y):  #마우스 클릭 위치 (x, y)로 펜 들고 이동\n",
    "    t.penup()    #펜 들기\n",
    "    t.goto(x, y) #(x, y) 좌표로 이동\n",
    "    t.pendown()  #펜 내리기\n",
    "\n",
    "def right_click(x, y):  #마우스 클릭 위치 좌표값 x, y\n",
    "    pass  #아무 일 안함\n",
    "\n",
    "################## 메인 시작 ############\n",
    "t.shape('turtle')  #Turtle 모양\n",
    "\n",
    "t.onscreenclick(left_click, 1)  #마우스 왼쪽 버튼(1번) 클릭 시 함수(left_click() 호출\n",
    "t.onscreenclick(mid_click, 2)  #마우스 가운데 버튼(2번) 클릭 시 함수(mid_click() 호출\n",
    "t.onscreenclick(right_click, 3)  #마우스 오른쪽 버튼(3번) 클릭 시 함수(right_click() 호출\n",
    "\n",
    "t.done()  #계속 동작\n",
    "################# 메인 끝 ##############"
   ]
  },
  {
   "cell_type": "code",
   "execution_count": 12,
   "id": "f99d8771-e3cc-4204-ae08-991e648bf377",
   "metadata": {},
   "outputs": [],
   "source": [
    "## [F-4] turtle 모듈 임포트: 모듈 함수 사용\n",
    "## turtle이 4각형 그리기: 작업 절차 구성 > 변수 사용 > 패턴 구성 > 일반화 > 구조화\n",
    "## 함수 사용: 마우스 클릭에 반응하는 함수 > right_click()\n",
    "import turtle as t\n",
    "import random\n",
    "\n",
    "def render(n, step):\n",
    "    angle = 360 / n\n",
    "    for _ in range(n):  #n번 반복\n",
    "        t.forward(step) #90pixcel 전진\n",
    "        t.left(angle)  #좌로 90도 회전\n",
    "\n",
    "def left_click(x, y):  #마우스 클릭 위치 좌표값 x, y\n",
    "    t.goto(x, y) #(x, y) 좌표로 이동\n",
    "\n",
    "def mid_click(x, y):  #마우스 클릭 위치 (x, y)로 펜 들고 이동\n",
    "    t.penup()    #펜 들기\n",
    "    t.goto(x, y) #(x, y) 좌표로 이동\n",
    "    t.pendown()  #펜 내리기\n",
    "\n",
    "def right_click(x, y):  #마우스 클릭 위치 좌표값 x, y\n",
    "    t.penup()    #펜 들기\n",
    "    t.goto(x, y) #(x, y) 좌표로 이동\n",
    "    t.pendown()  #펜 내리기\n",
    "    n = random.randrange(3, 8)  #랜덤 수 발생\n",
    "    step = random.randrange(10, 200)\n",
    "    render(n, step)\n",
    "\n",
    "################## 메인 시작 ############\n",
    "t.shape('turtle')  #Turtle 모양\n",
    "\n",
    "t.onscreenclick(left_click, 1)  #마우스 왼쪽 버튼(1번) 클릭 시 함수(left_click() 호출\n",
    "t.onscreenclick(mid_click, 2)  #마우스 가운데 버튼(2번) 클릭 시 함수(mid_click() 호출\n",
    "t.onscreenclick(right_click, 3)  #마우스 오른쪽 버튼(3번) 클릭 시 함수(right_click() 호출\n",
    "\n",
    "t.done()  #계속 동작\n",
    "################# 메인 끝 ##############"
   ]
  },
  {
   "cell_type": "code",
   "execution_count": null,
   "id": "b924ce6e-8567-426c-8e6b-835e960f0a40",
   "metadata": {},
   "outputs": [],
   "source": []
  }
 ],
 "metadata": {
  "kernelspec": {
   "display_name": "Python 3 (ipykernel)",
   "language": "python",
   "name": "python3"
  },
  "language_info": {
   "codemirror_mode": {
    "name": "ipython",
    "version": 3
   },
   "file_extension": ".py",
   "mimetype": "text/x-python",
   "name": "python",
   "nbconvert_exporter": "python",
   "pygments_lexer": "ipython3",
   "version": "3.9.13"
  }
 },
 "nbformat": 4,
 "nbformat_minor": 5
}
