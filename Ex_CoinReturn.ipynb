{
 "cells": [
  {
   "cell_type": "markdown",
   "id": "80e79410-a042-4a2b-b99d-50b5744b1bbe",
   "metadata": {},
   "source": [
    "# 최소 화폐 개수로 금액 반환\n",
    "### >> 키보드로 반환할 금액을 입력받는다.\n",
    "#### > 반환되는 화폐의 개수가 최소가 되도록 한다.\n",
    "#### > 화폐 단위별로 반환되는 개수를 출력한다.\n",
    "###  >> 예) 50000원 %d개, 10000원 %d개, 5000원 %d개, 1000원 %d개, \n",
    "####        500원 %d개, 100원 %d개, 50원 %d개, 10원 %d개, 5원 %d개, 1원 %d개"
   ]
  },
  {
   "cell_type": "code",
   "execution_count": 2,
   "id": "0c84b4af-8a49-4e96-8071-a1a6bada49dc",
   "metadata": {},
   "outputs": [
    {
     "name": "stdin",
     "output_type": "stream",
     "text": [
      "반환할 금액 입력(원)?  123456\n"
     ]
    },
    {
     "name": "stdout",
     "output_type": "stream",
     "text": [
      "> 50000권: 2\n",
      ">> 남은 액수: 99998\n"
     ]
    }
   ],
   "source": [
    "## [1] 최소 화폐 개수로 금액 반환\n",
    "## 5만원권 처리\n",
    "remain = int(input(\"반환할 금액 입력(원)? \"))  #남은 액수\n",
    "\n",
    "coin_50000 = remain // 50000  #내준 개수\n",
    "print(\"> 50000원권: %d\" %coin_50000)\n",
    "\n",
    "remain = remain - (coin_50000 * 50000)  #남은 액수\n",
    "print(\">> 남은 액수: %d\" %remain)"
   ]
  },
  {
   "cell_type": "code",
   "execution_count": 4,
   "id": "211aad0a-8df5-4ce2-9ad2-bda2c7aae57e",
   "metadata": {},
   "outputs": [
    {
     "name": "stdin",
     "output_type": "stream",
     "text": [
      "반환할 금액 입력(원)?  123456\n"
     ]
    },
    {
     "name": "stdout",
     "output_type": "stream",
     "text": [
      "> 50000권: 2\n",
      ">> 남은 액수: 23456\n",
      "> 10000권: 2\n",
      ">> 남은 액수: 3456\n"
     ]
    }
   ],
   "source": [
    "## [2] 최소 화폐 개수로 금액 반환\n",
    "## 5만원권 처리 > 1만원권 처리\n",
    "remain = int(input(\"반환할 금액 입력(원)? \"))  #남은 액수\n",
    "\n",
    "coin_50000 = remain // 50000  #내준 개수: 50000으로 나눈 몫\n",
    "print(\"> 50000원권: %d\" %coin_50000)\n",
    "remain = remain - (coin_50000 * 50000)  #남은 액수: 50000으로 나눈 나머지\n",
    "print(\">> 남은 액수: %d\" %remain)\n",
    "\n",
    "coin_10000 = remain // 10000  #내준 개수: 10000으로 나눈 몫\n",
    "print(\"> 10000원권: %d\" %coin_10000)\n",
    "remain = remain - (coin_10000 * 10000)  #남은 액수: 10000으로 나눈 나머지\n",
    "print(\">> 남은 액수: %d\" %remain)"
   ]
  },
  {
   "cell_type": "code",
   "execution_count": 6,
   "id": "96a33a2f-05cf-4621-9a02-ae06a2064074",
   "metadata": {},
   "outputs": [
    {
     "name": "stdin",
     "output_type": "stream",
     "text": [
      "반환할 금액 입력(원)?  123456\n"
     ]
    },
    {
     "name": "stdout",
     "output_type": "stream",
     "text": [
      "> 50000권: 2\n",
      ">> 남은 액수: 23456\n",
      "> 10000권: 2\n",
      ">> 남은 액수: 3456\n"
     ]
    }
   ],
   "source": [
    "## [3] 최소 화폐 개수로 금액 반환\n",
    "## 5만원권 처리 > 1만원권 처리 : 산술식 변경\n",
    "remain = int(input(\"반환할 금액 입력(원)? \"))  #남은 액수\n",
    "\n",
    "coin_50000 = remain // 50000  #내준 개수: 50000으로 나눈 몫\n",
    "print(\"> 50000원권: %d\" %coin_50000)\n",
    "remain = remain % 50000       #남은 액수: 50000으로 나눈 나머지\n",
    "print(\">> 남은 액수: %d\" %remain)\n",
    "\n",
    "coin_10000 = remain // 10000  #내준 개수: 10000으로 나눈 몫\n",
    "print(\"> 10000원권: %d\" %coin_10000)\n",
    "remain = remain % 10000    #남은 액수: 10000으로 나눈 나머지\n",
    "print(\">> 남은 액수: %d\" %remain)"
   ]
  },
  {
   "cell_type": "code",
   "execution_count": 14,
   "id": "448e35fc-e3f8-4e0d-9f15-43132fed9263",
   "metadata": {},
   "outputs": [
    {
     "name": "stdin",
     "output_type": "stream",
     "text": [
      "반환할 금액 입력(원)?  123456\n"
     ]
    },
    {
     "name": "stdout",
     "output_type": "stream",
     "text": [
      "> 50000원권: 2\n",
      ">> 남은 액수: 23456\n",
      "> 10000원권: 2\n",
      ">> 남은 액수: 3456\n",
      "> 5000원권: 0\n",
      ">> 남은 액수: 3456\n",
      "> 1000원권: 3\n",
      ">> 남은 액수: 456\n",
      "> 500원권: 0\n",
      ">> 남은 액수: 456\n",
      "> 100원권: 4\n",
      ">> 남은 액수: 56\n",
      "> 50원권: 1\n",
      ">> 남은 액수: 6\n",
      "> 10원권: 0\n",
      ">> 남은 액수: 6\n",
      "> 5원권: 1\n",
      ">> 남은 액수: 1\n",
      "> 1원권: 1\n"
     ]
    }
   ],
   "source": [
    "## [4] 최소 화폐 개수로 금액 반환\n",
    "## 전권 처리 \n",
    "remain = int(input(\"반환할 금액 입력(원)? \"))  #남은 액수\n",
    "\n",
    "coin_50000 = remain // 50000  #내준 개수: 50000으로 나눈 몫\n",
    "print(\"> 50000원권: %d\" %coin_50000)\n",
    "remain = remain % 50000       #남은 액수: 50000으로 나눈 나머지\n",
    "print(\">> 남은 액수: %d\" %remain)\n",
    "\n",
    "coin_10000 = remain // 10000  #내준 개수: 10000으로 나눈 몫\n",
    "print(\"> 10000원권: %d\" %coin_10000)\n",
    "remain = remain % 10000    #남은 액수: 10000으로 나눈 나머지\n",
    "print(\">> 남은 액수: %d\" %remain)\n",
    "\n",
    "coin_5000 = remain // 5000  #내준 개수: 5000으로 나눈 몫\n",
    "print(\"> 5000원권: %d\" %coin_5000)\n",
    "remain = remain % 5000       #남은 액수: 5000으로 나눈 나머지\n",
    "print(\">> 남은 액수: %d\" %remain)\n",
    "\n",
    "coin_1000 = remain // 1000  #내준 개수: 1000으로 나눈 몫\n",
    "print(\"> 1000원권: %d\" %coin_1000)\n",
    "remain = remain % 1000    #남은 액수: 1000으로 나눈 나머지\n",
    "print(\">> 남은 액수: %d\" %remain)\n",
    "\n",
    "coin_500 = remain // 500  #내준 개수: 500으로 나눈 몫\n",
    "print(\"> 500원권: %d\" %coin_500)\n",
    "remain = remain % 500       #남은 액수: 500으로 나눈 나머지\n",
    "print(\">> 남은 액수: %d\" %remain)\n",
    "\n",
    "coin_100 = remain // 100  #내준 개수: 100으로 나눈 몫\n",
    "print(\"> 100원권: %d\" %coin_100)\n",
    "remain = remain % 100    #남은 액수: 100으로 나눈 나머지\n",
    "print(\">> 남은 액수: %d\" %remain)\n",
    "\n",
    "coin_50 = remain // 50  #내준 개수: 50으로 나눈 몫\n",
    "print(\"> 50원권: %d\" %coin_50)\n",
    "remain = remain % 50       #남은 액수: 50으로 나눈 나머지\n",
    "print(\">> 남은 액수: %d\" %remain)\n",
    "\n",
    "coin_10 = remain // 10  #내준 개수: 10으로 나눈 몫\n",
    "print(\"> 10원권: %d\" %coin_10)\n",
    "remain = remain % 10    #남은 액수: 10으로 나눈 나머지\n",
    "print(\">> 남은 액수: %d\" %remain)\n",
    "\n",
    "coin_5 = remain // 5  #내준 개수: 5로 나눈 몫\n",
    "print(\"> 5원권: %d\" %coin_5)\n",
    "remain = remain % 5       #남은 액수: 5로 나눈 나머지\n",
    "print(\">> 남은 액수: %d\" %remain)\n",
    "\n",
    "coin_1 = remain // 1  #내준 개수: 1로 나눈 몫\n",
    "print(\"> 1원권: %d\" %coin_1)\n",
    "remain = remain % 1       #남은 액수: 1로 나눈 나머지\n",
    "print(\">> 남은 액수: %d\" %remain)"
   ]
  },
  {
   "cell_type": "code",
   "execution_count": 14,
   "id": "8965cc70-ac58-4dd8-ab82-7f30baa4cef0",
   "metadata": {},
   "outputs": [
    {
     "name": "stdin",
     "output_type": "stream",
     "text": [
      "반환할 금액 입력(원)?  123456\n"
     ]
    },
    {
     "name": "stdout",
     "output_type": "stream",
     "text": [
      "> 50000원권: 2\n",
      ">> 남은 액수: 23456\n",
      "> 10000원권: 2\n",
      ">> 남은 액수: 3456\n",
      "> 5000원권: 0\n",
      ">> 남은 액수: 3456\n",
      "> 1000원권: 3\n",
      ">> 남은 액수: 456\n",
      "> 500원권: 0\n",
      ">> 남은 액수: 456\n",
      "> 100원권: 4\n",
      ">> 남은 액수: 56\n",
      "> 50원권: 1\n",
      ">> 남은 액수: 6\n",
      "> 10원권: 0\n",
      ">> 남은 액수: 6\n",
      "> 5원권: 1\n",
      ">> 남은 액수: 1\n",
      "> 1원권: 1\n"
     ]
    }
   ],
   "source": [
    "## [5] 최소 화폐 개수로 금액 반환\n",
    "## 패턴 구성: 변수 통일 \n",
    "remain = int(input(\"반환할 금액 입력(원)? \"))  #남은 액수\n",
    "\n",
    "result = remain // 50000  #내준 개수: 50000으로 나눈 몫\n",
    "print(\"> 50000원권: %d\" %result)\n",
    "remain = remain % 50000       #남은 액수: 50000으로 나눈 나머지\n",
    "print(\">> 남은 액수: %d\" %remain)\n",
    "\n",
    "result = remain // 10000  #내준 개수: 10000으로 나눈 몫\n",
    "print(\"> 10000원권: %d\" %result)\n",
    "remain = remain % 10000    #남은 액수: 10000으로 나눈 나머지\n",
    "print(\">> 남은 액수: %d\" %remain)\n",
    "\n",
    "result = remain // 5000  #내준 개수: 5000으로 나눈 몫\n",
    "print(\"> 5000원권: %d\" %result)\n",
    "remain = remain % 5000       #남은 액수: 5000으로 나눈 나머지\n",
    "print(\">> 남은 액수: %d\" %remain)\n",
    "\n",
    "result = remain // 1000  #내준 개수: 1000으로 나눈 몫\n",
    "print(\"> 1000원권: %d\" %result)\n",
    "remain = remain % 1000    #남은 액수: 1000으로 나눈 나머지\n",
    "print(\">> 남은 액수: %d\" %remain)\n",
    "\n",
    "result = remain // 500  #내준 개수: 500으로 나눈 몫\n",
    "print(\"> 500원권: %d\" %result)\n",
    "remain = remain % 500       #남은 액수: 500으로 나눈 나머지\n",
    "print(\">> 남은 액수: %d\" %remain)\n",
    "\n",
    "result = remain // 100  #내준 개수: 100으로 나눈 몫\n",
    "print(\"> 100원권: %d\" %result)\n",
    "remain = remain % 100    #남은 액수: 100으로 나눈 나머지\n",
    "print(\">> 남은 액수: %d\" %remain)\n",
    "\n",
    "result = remain // 50  #내준 개수: 50으로 나눈 몫\n",
    "print(\"> 50원권: %d\" %result)\n",
    "remain = remain % 50       #남은 액수: 50으로 나눈 나머지\n",
    "print(\">> 남은 액수: %d\" %remain)\n",
    "\n",
    "result = remain // 10  #내준 개수: 10으로 나눈 몫\n",
    "print(\"> 10원권: %d\" %result)\n",
    "remain = remain % 10    #남은 액수: 10으로 나눈 나머지\n",
    "print(\">> 남은 액수: %d\" %remain)\n",
    "\n",
    "result = remain // 5  #내준 개수: 5로 나눈 몫\n",
    "print(\"> 5원권: %d\" %result)\n",
    "remain = remain % 5       #남은 액수: 5로 나눈 나머지\n",
    "print(\">> 남은 액수: %d\" %remain)\n",
    "\n",
    "result = remain // 1  #내준 개수: 1로 나눈 몫\n",
    "print(\"> 1원권: %d\" %result)\n",
    "remain = remain % 1       #남은 액수: 1로 나눈 나머지\n",
    "print(\">> 남은 액수: %d\" %remain)"
   ]
  },
  {
   "cell_type": "code",
   "execution_count": 17,
   "id": "5e5ae7c8-4468-4a83-9c3e-9a758d27f3ee",
   "metadata": {},
   "outputs": [
    {
     "name": "stdin",
     "output_type": "stream",
     "text": [
      "반환할 금액 입력(원)?  123456\n"
     ]
    },
    {
     "name": "stdout",
     "output_type": "stream",
     "text": [
      "> 50000원권: 2\n",
      ">> 남은 액수: 23456\n",
      "> 10000원권: 2\n",
      ">> 남은 액수: 3456\n",
      "> 5000원권: 0\n",
      ">> 남은 액수: 3456\n",
      "> 1000원권: 3\n",
      ">> 남은 액수: 456\n",
      "> 500원권: 0\n",
      ">> 남은 액수: 456\n",
      "> 100원권: 4\n",
      ">> 남은 액수: 56\n",
      "> 50원권: 1\n",
      ">> 남은 액수: 6\n",
      "> 10원권: 0\n",
      ">> 남은 액수: 6\n",
      "> 5원권: 1\n",
      ">> 남은 액수: 1\n",
      "> 1원권: 1\n",
      ">> 남은 액수: 0\n"
     ]
    }
   ],
   "source": [
    "## [6] 최소 화폐 개수로 금액 반환\n",
    "## 패턴 구성: 금액도 변수 처리 \n",
    "unit = [50000, 10000, 5000, 1000, 500, 100, 50, 10, 5, 1]  #List형 데이터 구조\n",
    "\n",
    "remain = int(input(\"반환할 금액 입력(원)? \"))  #남은 액수\n",
    "\n",
    "result = remain // unit[0]  #내준 개수: 50000으로 나눈 몫\n",
    "print(\"> 50000원권: %d\" %result)\n",
    "remain = remain % unit[0]       #남은 액수: 50000으로 나눈 나머지\n",
    "print(\">> 남은 액수: %d\" %remain)\n",
    "\n",
    "result = remain // unit[1]  #내준 개수: 10000으로 나눈 몫\n",
    "print(\"> 10000원권: %d\" %result)\n",
    "remain = remain % unit[1]    #남은 액수: 10000으로 나눈 나머지\n",
    "print(\">> 남은 액수: %d\" %remain)\n",
    "\n",
    "result = remain // unit[2]  #내준 개수: 5000으로 나눈 몫\n",
    "print(\"> 5000원권: %d\" %result)\n",
    "remain = remain % unit[2]       #남은 액수: 5000으로 나눈 나머지\n",
    "print(\">> 남은 액수: %d\" %remain)\n",
    "\n",
    "result = remain // unit[3]  #내준 개수: 1000으로 나눈 몫\n",
    "print(\"> 1000원권: %d\" %result)\n",
    "remain = remain % unit[3]    #남은 액수: 1000으로 나눈 나머지\n",
    "print(\">> 남은 액수: %d\" %remain)\n",
    "\n",
    "result = remain // unit[4]  #내준 개수: 500으로 나눈 몫\n",
    "print(\"> 500원권: %d\" %result)\n",
    "remain = remain % unit[4]       #남은 액수: 500으로 나눈 나머지\n",
    "print(\">> 남은 액수: %d\" %remain)\n",
    "\n",
    "result = remain // unit[5]  #내준 개수: 100으로 나눈 몫\n",
    "print(\"> 100원권: %d\" %result)\n",
    "remain = remain % unit[5]    #남은 액수: 100으로 나눈 나머지\n",
    "print(\">> 남은 액수: %d\" %remain)\n",
    "\n",
    "result = remain // unit[6]  #내준 개수: 50으로 나눈 몫\n",
    "print(\"> 50원권: %d\" %result)\n",
    "remain = remain % unit[6]       #남은 액수: 50으로 나눈 나머지\n",
    "print(\">> 남은 액수: %d\" %remain)\n",
    "\n",
    "result = remain // unit[7]  #내준 개수: 10으로 나눈 몫\n",
    "print(\"> 10원권: %d\" %result)\n",
    "remain = remain % unit[7]    #남은 액수: 10으로 나눈 나머지\n",
    "print(\">> 남은 액수: %d\" %remain)\n",
    "\n",
    "result = remain // unit[8]  #내준 개수: 5로 나눈 몫\n",
    "print(\"> 5원권: %d\" %result)\n",
    "remain = remain % unit[8]       #남은 액수: 5로 나눈 나머지\n",
    "print(\">> 남은 액수: %d\" %remain)\n",
    "\n",
    "result = remain // unit[9]  #내준 개수: 1로 나눈 몫\n",
    "print(\"> 1원권: %d\" %result)\n",
    "remain = remain % unit[9]       #남은 액수: 1로 나눈 나머지\n",
    "print(\">> 남은 액수: %d\" %remain)"
   ]
  },
  {
   "cell_type": "code",
   "execution_count": 20,
   "id": "3e94fb7e-4bf0-4390-a502-c95c6720af1e",
   "metadata": {},
   "outputs": [
    {
     "name": "stdin",
     "output_type": "stream",
     "text": [
      "반환할 금액 입력(원)?  123456\n"
     ]
    },
    {
     "name": "stdout",
     "output_type": "stream",
     "text": [
      "> 50000원권: 2\n",
      "> 10000원권: 2\n",
      "> 5000원권: 0\n",
      "> 1000원권: 3\n",
      "> 500원권: 0\n",
      "> 100원권: 4\n",
      "> 50원권: 1\n",
      "> 10원권: 0\n",
      "> 5원권: 1\n",
      "> 1원권: 1\n"
     ]
    }
   ],
   "source": [
    "## [7] 최소 화폐 개수로 금액 반환\n",
    "## 패턴 구성: 반복 패턴을 반복문으로 변환 \n",
    "unit = [50000, 10000, 5000, 1000, 500, 100, 50, 10, 5, 1]  #List형 데이터 구조\n",
    "\n",
    "cnt_won = len(unit)  #unit의 항목 개수 구하기\n",
    "remain = int(input(\"반환할 금액 입력(원)? \"))  #남은 액수\n",
    "\n",
    "for i in range(cnt_won):  # (0에서부터 cnt_won이 되기 전까지) 값을 i로 반환하며 반복\n",
    "    result = remain // unit[i]  #내준 개수\n",
    "    print(\"> %d원권: %d\" %(unit[i], result))\n",
    "    remain = remain % unit[i]       #남은 액수\n",
    "    print(\">> 남은 액수: %d\" %remain)"
   ]
  },
  {
   "cell_type": "code",
   "execution_count": 21,
   "id": "4f947904-c1cb-41a0-9e0a-c0e21c8ef91d",
   "metadata": {},
   "outputs": [
    {
     "name": "stdin",
     "output_type": "stream",
     "text": [
      "반환할 금액 입력(원)?  123456\n"
     ]
    },
    {
     "name": "stdout",
     "output_type": "stream",
     "text": [
      "> 50000원권: 2\n",
      "> 10000원권: 2\n",
      "> 1000원권: 3\n",
      "> 100원권: 4\n",
      "> 50원권: 1\n",
      "> 5원권: 1\n",
      "> 1원권: 1\n"
     ]
    }
   ],
   "source": [
    "## [8] 최소 화폐 개수로 금액 반환\n",
    "## 일반화, 구조화 완료 \n",
    "unit = [50000, 10000, 5000, 1000, 500, 100, 50, 10, 5, 1]  #List형 데이터 구조\n",
    "\n",
    "cnt_won = len(unit)  #unit의 항목 개수 구하기\n",
    "remain = int(input(\"반환할 금액 입력(원)? \"))  #남은 액수\n",
    "\n",
    "for i in range(cnt_won):  # (0에서부터 cnt_won이 되기 전까지) 값을 i로 반환하며 반복\n",
    "    result = remain // unit[i]  #내준 개수\n",
    "    if result != 0:\n",
    "        print(\"> %d원권: %d\" %(unit[i], result))\n",
    "    remain = remain % unit[i]       #남은 액수"
   ]
  },
  {
   "cell_type": "code",
   "execution_count": null,
   "id": "b924ce6e-8567-426c-8e6b-835e960f0a40",
   "metadata": {},
   "outputs": [],
   "source": []
  }
 ],
 "metadata": {
  "kernelspec": {
   "display_name": "Python 3 (ipykernel)",
   "language": "python",
   "name": "python3"
  },
  "language_info": {
   "codemirror_mode": {
    "name": "ipython",
    "version": 3
   },
   "file_extension": ".py",
   "mimetype": "text/x-python",
   "name": "python",
   "nbconvert_exporter": "python",
   "pygments_lexer": "ipython3",
   "version": "3.9.13"
  }
 },
 "nbformat": 4,
 "nbformat_minor": 5
}
