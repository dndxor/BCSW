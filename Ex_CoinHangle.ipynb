{
 "cells": [
  {
   "cell_type": "markdown",
   "id": "cf5d48d6-df36-4c87-b674-e9425b0458da",
   "metadata": {},
   "source": [
    "# [실습] 숫자로 된 액수를 순 한글로 변환하기\n",
    "#### >예를 들어, 121345가 입력되면 '십이만천삼백사십오원'으로 출력"
   ]
  },
  {
   "cell_type": "code",
   "execution_count": 3,
   "id": "303c37dc-fef7-464c-9668-3c0f611bf934",
   "metadata": {},
   "outputs": [
    {
     "name": "stdin",
     "output_type": "stream",
     "text": [
      "금액 숫자 입력(원)?  1234567890\n"
     ]
    },
    {
     "name": "stdout",
     "output_type": "stream",
     "text": [
      "12억3456만7천8백9십원\n"
     ]
    }
   ],
   "source": [
    "## 숫자 금액을 한글로 변환하기\n",
    "## 화폐 읽기 단위로 분해\n",
    "unit = [100000000, 10000, 1000, 100, 10, 1]     #List형 데이터 구조 금액 단위 숫자\n",
    "unit_han = ['억', '만', '천', '백', '십', '']   #List형 데이터 구조 금액 단위 한글\n",
    "\n",
    "cnt_won = len(unit)  #unit의 항목 개수 구하기\n",
    "won_han = ''  #구할 한글 금액\n",
    "remain = int(input(\"금액 숫자 입력(원)? \"))  #남은 액수\n",
    "\n",
    "for i in range(cnt_won):  # (0에서부터 cnt_won이 되기 전까지) 값을 i로 반환하며 반복\n",
    "    result = remain // unit[i]  #내준 개수\n",
    "    if result != 0:\n",
    "        won_han += str(result) + unit_han[i]\n",
    "    remain = remain % unit[i]   #남은 액수\n",
    "if len(won_han) != 0:\n",
    "    won_han += '원' \n",
    "print(won_han)"
   ]
  },
  {
   "cell_type": "code",
   "execution_count": 12,
   "id": "e1c22782-5542-413f-bf02-ec60337e83ec",
   "metadata": {},
   "outputs": [
    {
     "name": "stdin",
     "output_type": "stream",
     "text": [
      "금액 숫자 입력(원)?  1234567890\n"
     ]
    },
    {
     "name": "stdout",
     "output_type": "stream",
     "text": [
      "일십이억삼천사백오십육만칠천팔백구십원\n"
     ]
    }
   ],
   "source": [
    "## 숫자 금액을 한글로 변환하기\n",
    "## 화폐 읽기 단위 금액을 한글로 변환 \n",
    "unit = [100000000, 10000, 1000, 100, 10, 1]     #List형 데이터 구조 금액 단위 숫자\n",
    "unit_han = ['억', '만', '천', '백', '십', '']   #List형 데이터 구조 금액 단위 한글\n",
    "digit_han = ['', '일', '이', '삼', '사', '오', '육', '칠', '팔', '구']   #단자리 숫자 한글 발음\n",
    "\n",
    "def won_to_han(won):  #1000 단위 이하 금액에 대한 한글 변환\n",
    "    won_han = ''\n",
    "    for i in range(2,6):    #1000 단위 이하 금액에 대해서만 처리\n",
    "        result = won // unit[i]\n",
    "        if result != 0:\n",
    "            won_han += digit_han[result] + unit_han[i]\n",
    "        won = won % unit[i]\n",
    "    return won_han\n",
    "\n",
    "cnt_won = len(unit)  #unit의 항목 개수 구하기\n",
    "won_han = ''  #구할 한글 금액\n",
    "remain = int(input(\"금액 숫자 입력(원)? \"))  #남은 액수\n",
    "\n",
    "for i in range(cnt_won):  # (0에서부터 cnt_won이 되기 전까지) 값을 i로 반환하며 반복\n",
    "    result = remain // unit[i]  #내준 개수    \n",
    "    if result != 0:\n",
    "        won_han += won_to_han(result) + unit_han[i]  #단위별 한글 변환\n",
    "    remain = remain % unit[i]   #남은 액수\n",
    "if len(won_han) != 0:\n",
    "    won_han += '원' \n",
    "print(won_han)"
   ]
  },
  {
   "cell_type": "code",
   "execution_count": 29,
   "id": "a9ff2578-dcea-4ab9-8e59-04140e4cf473",
   "metadata": {},
   "outputs": [
    {
     "name": "stdin",
     "output_type": "stream",
     "text": [
      "금액 숫자 입력(원)?  11111111\n"
     ]
    },
    {
     "name": "stdout",
     "output_type": "stream",
     "text": [
      "천백십일만천백십일원\n"
     ]
    }
   ],
   "source": [
    "## 숫자 금액을 한글로 변환하기\n",
    "## 화폐 읽기 단위 금액을 한글로 변환 > 맨 앞에 '일' 단위 제거\n",
    "unit = [100000000, 10000, 1000, 100, 10, 1]     #List형 데이터 구조 금액 단위 숫자\n",
    "unit_han = ['억', '만', '천', '백', '십', '']   #List형 데이터 구조 금액 단위 한글\n",
    "digit_han = ['', '일', '이', '삼', '사', '오', '육', '칠', '팔', '구']   #단자리 숫자 한글 발음\n",
    "\n",
    "def won_to_han(won):  #1000 단위 이하 금액에 대한 한글 변환\n",
    "    won_han = ''\n",
    "    for i in range(2,6):    #1000 단위 이하 금액에 대해서만 처리\n",
    "        result = won // unit[i]\n",
    "        if result != 0:\n",
    "            won_han += digit_han[result] + unit_han[i]\n",
    "        won = won % unit[i]\n",
    "    return won_han\n",
    "\n",
    "remain = int(input(\"금액 숫자 입력(원)? \"))  #남은 액수\n",
    "won_han = ''  #구할 한글 금액\n",
    "cnt_won = len(unit)  #unit의 항목 개수 구하기\n",
    "\n",
    "for i in range(cnt_won):  # (0에서부터 cnt_won이 되기 전까지) 값을 i로 반환하며 반복\n",
    "    result = remain // unit[i]  #내준 개수    \n",
    "    if result != 0:\n",
    "        won_han += won_to_han(result) + unit_han[i]  #단위별 한글 변환\n",
    "    remain = remain % unit[i]   #남은 액수\n",
    "won_han = won_han.replace('일천', '천').replace('일백', '백').replace('일십', '십')\n",
    "if len(won_han) != 0:\n",
    "    won_han += '원' \n",
    "print(won_han)"
   ]
  },
  {
   "cell_type": "code",
   "execution_count": 39,
   "id": "23b965f2-4b2d-404f-b502-74d7e80e77b0",
   "metadata": {},
   "outputs": [
    {
     "name": "stdin",
     "output_type": "stream",
     "text": [
      "금액 숫자 입력(원)?  111111111\n"
     ]
    },
    {
     "name": "stdout",
     "output_type": "stream",
     "text": [
      "일억천백십일만천백십일원\n"
     ]
    }
   ],
   "source": [
    "## 숫자 금액을 한글로 변환하기\n",
    "## 화폐 읽기 단위 금액을 한글로 변환 > 입력 범위 제한, 함수 처리 등\n",
    "unit = [100000000, 10000, 1000, 100, 10, 1]     #List형 데이터 구조 금액 단위 숫자\n",
    "unit_han = ['억', '만', '천', '백', '십', '']   #List형 데이터 구조 금액 단위 한글\n",
    "digit_han = ['', '일', '이', '삼', '사', '오', '육', '칠', '팔', '구']   #단자리 숫자 한글 발음\n",
    "\n",
    "def won_to_han(won):  #1000 단위 이하 금액에 대한 한글 변환\n",
    "    won_han = ''\n",
    "    for i in range(2,6):    #1000 단위 이하 금액에 대해서만 처리\n",
    "        result = won // unit[i]\n",
    "        if result != 0:\n",
    "            won_han += digit_han[result] + unit_han[i]\n",
    "        won = won % unit[i]\n",
    "    return won_han\n",
    "\n",
    "def seperate_won(remain): #호명 금액 단위로 분리\n",
    "    won_han = ''  #구할 한글 금액\n",
    "    cnt_won = len(unit)  #unit의 항목 개수 구하기\n",
    "    for i in range(cnt_won):  # (0에서부터 cnt_won이 되기 전까지) 값을 i로 반환하며 반복\n",
    "        result = remain // unit[i]  #내준 개수    \n",
    "        if result != 0:\n",
    "            won_han += won_to_han(result) + unit_han[i]  #단위별 한글 변환\n",
    "        remain = remain % unit[i]   #남은 액수\n",
    "    won_han = won_han.replace('일천', '천').replace('일백', '백').replace('일십', '십')\n",
    "    if len(won_han) != 0:\n",
    "        won_han += '원' \n",
    "    return won_han\n",
    "    \n",
    "remain = 0\n",
    "while remain >= 1000000000000 or remain <= 0:  #숫자 금액 제한(1조원 미만)\n",
    "    remain = int(input(\"금액 숫자 입력(원)? \"))  #남은 액수\n",
    "\n",
    "won_han = seperate_won(remain)\n",
    "print(won_han)"
   ]
  },
  {
   "cell_type": "markdown",
   "id": "93839e1b-3b6f-4808-8056-cc326e32b4f2",
   "metadata": {},
   "source": []
  }
 ],
 "metadata": {
  "kernelspec": {
   "display_name": "Python 3 (ipykernel)",
   "language": "python",
   "name": "python3"
  },
  "language_info": {
   "codemirror_mode": {
    "name": "ipython",
    "version": 3
   },
   "file_extension": ".py",
   "mimetype": "text/x-python",
   "name": "python",
   "nbconvert_exporter": "python",
   "pygments_lexer": "ipython3",
   "version": "3.9.13"
  }
 },
 "nbformat": 4,
 "nbformat_minor": 5
}
